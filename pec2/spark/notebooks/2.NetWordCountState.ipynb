{
 "cells": [
  {
   "cell_type": "code",
   "execution_count": 1,
   "metadata": {},
   "outputs": [],
   "source": [
    "import os\n",
    "import findspark\n",
    "findspark.init(os.environ['SPARK_HOME'])\n",
    "\n",
    "from pyspark import SparkContext\n",
    "from pyspark.streaming import StreamingContext"
   ]
  },
  {
   "cell_type": "code",
   "execution_count": 2,
   "metadata": {},
   "outputs": [],
   "source": [
    "sc = SparkContext(appName=\"NetWordCountState\")\n",
    "ssc = StreamingContext(sc, 10)"
   ]
  },
  {
   "cell_type": "code",
   "execution_count": 3,
   "metadata": {},
   "outputs": [],
   "source": [
    "def update_func(new_val, last_sum):\n",
    "    return sum(new_val) + (last_sum or 0)"
   ]
  },
  {
   "cell_type": "code",
   "execution_count": 4,
   "metadata": {},
   "outputs": [],
   "source": [
    "# To maintain status info we need to use checkpoints.\n",
    "checkpointDir = \"file:///tmp/spark\" # toUri('/tmp/spark') == \"file:///tmp/spark\"\n",
    "ssc.checkpoint(checkpointDir)  # create dir for checkpoint archives\n",
    "\n",
    "lines = ssc.socketTextStream(\"localhost\", 9876)\n",
    "counts = lines.flatMap(lambda line: line.split(\" \"))\\\n",
    "              .map(lambda word: (word, 1))\\\n",
    "              .updateStateByKey(update_func)\n",
    "\n",
    "counts.pprint()"
   ]
  },
  {
   "cell_type": "markdown",
   "metadata": {},
   "source": [
    "## Ejecutar desde línea de comandos\n",
    "\n",
    "```bash \n",
    "nc -lk 9999\n",
    "```\n",
    "donde se podrán ir introduciendo las palabras\n",
    "\n",
    "\n",
    "## Iniciar el proceso spark"
   ]
  },
  {
   "cell_type": "code",
   "execution_count": 5,
   "metadata": {},
   "outputs": [
    {
     "name": "stdout",
     "output_type": "stream",
     "text": [
      "-------------------------------------------\n",
      "Time: 2021-04-24 10:39:00\n",
      "-------------------------------------------\n",
      "('A7-KM-30', 1)\n",
      "('1234UUU', 1)\n",
      "\n",
      "-------------------------------------------\n",
      "Time: 2021-04-24 10:39:10\n",
      "-------------------------------------------\n",
      "('A7-KM-30', 3)\n",
      "('1234EEE', 2)\n",
      "('A7-KM-01', 1)\n",
      "('A7-KM-15', 1)\n",
      "('1234UUU', 4)\n",
      "('1234AAA', 2)\n",
      "('A7-KM-50', 3)\n",
      "\n"
     ]
    }
   ],
   "source": [
    "ssc.start()"
   ]
  },
  {
   "cell_type": "markdown",
   "metadata": {},
   "source": [
    "## Para detener el proceso ejecutad esta celda"
   ]
  },
  {
   "cell_type": "code",
   "execution_count": 6,
   "metadata": {},
   "outputs": [],
   "source": [
    "ssc.stop()\n",
    "sc.stop()"
   ]
  },
  {
   "cell_type": "code",
   "execution_count": null,
   "metadata": {},
   "outputs": [],
   "source": []
  }
 ],
 "metadata": {
  "kernelspec": {
   "display_name": "Python 3",
   "language": "python",
   "name": "python3"
  },
  "language_info": {
   "codemirror_mode": {
    "name": "ipython",
    "version": 3
   },
   "file_extension": ".py",
   "mimetype": "text/x-python",
   "name": "python",
   "nbconvert_exporter": "python",
   "pygments_lexer": "ipython3",
   "version": "3.8.5"
  }
 },
 "nbformat": 4,
 "nbformat_minor": 4
}
