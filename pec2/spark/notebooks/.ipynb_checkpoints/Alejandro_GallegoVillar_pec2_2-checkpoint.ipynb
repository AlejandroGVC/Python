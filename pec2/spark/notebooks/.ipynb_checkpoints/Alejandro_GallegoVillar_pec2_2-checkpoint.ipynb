{
 "cells": [
  {
   "cell_type": "markdown",
   "id": "olive-france",
   "metadata": {},
   "source": [
    "# PEC2 – Infr. Big Data – Ejercicio 2 - Spark Streaming"
   ]
  },
  {
   "cell_type": "markdown",
   "id": "approximate-burning",
   "metadata": {},
   "source": [
    "## Tratamiento de datos en streaming\n",
    "Aquí podéis incluir las sentencias de importación de paquetes e inicialización que necesitéis"
   ]
  },
  {
   "cell_type": "code",
   "execution_count": 1,
   "id": "international-layer",
   "metadata": {},
   "outputs": [],
   "source": [
    "from pyspark import SparkContext\n",
    "from pyspark.streaming import StreamingContext\n",
    "from pathToUri import toUri"
   ]
  },
  {
   "cell_type": "code",
   "execution_count": 114,
   "id": "629e90ea-73d4-4039-9fe1-8bbcab76f431",
   "metadata": {},
   "outputs": [],
   "source": [
    "def update_func(new_val, last_sum):\n",
    "    return sum(new_val) + (last_sum or 0)"
   ]
  },
  {
   "cell_type": "markdown",
   "id": "executive-commissioner",
   "metadata": {},
   "source": [
    "### Saber en tiempo real cuantas veces pasa un vehículo por cada punto del sistema desde el día que se pone en marcha el mecanismo.  \n",
    "Incluir las celdas con las respuestas a continuación"
   ]
  },
  {
   "cell_type": "code",
   "execution_count": 129,
   "id": "021d4a31-cbb2-4eff-8b75-83e33a6d6fd4",
   "metadata": {},
   "outputs": [],
   "source": [
    "sc = SparkContext(appName=\"ejercicio2\")\n",
    "ssc = StreamingContext(sc, 5)"
   ]
  },
  {
   "cell_type": "code",
   "execution_count": 130,
   "id": "610b624a-1cdc-4128-a7e3-d9b1854ea415",
   "metadata": {},
   "outputs": [],
   "source": [
    "# To maintain status info we need to use checkpoints.\n",
    "checkpointDir = toUri('/tmp/spark') \n",
    "ssc.checkpoint(checkpointDir)  # create dir for checkpoint archives\n",
    "\n",
    "lines = ssc.socketTextStream(\"localhost\", 9876)\n",
    "counts = lines.map(lambda line: (line, 1))\\\n",
    "              .updateStateByKey(update_func)\n",
    "\n",
    "counts.pprint()"
   ]
  },
  {
   "cell_type": "code",
   "execution_count": 131,
   "id": "3f8faac1-13f0-4164-a6c0-0c08542283aa",
   "metadata": {},
   "outputs": [
    {
     "name": "stdout",
     "output_type": "stream",
     "text": [
      "-------------------------------------------\n",
      "Time: 2021-05-05 12:09:40\n",
      "-------------------------------------------\n",
      "('1234AAA A7-KM-50', 2)\n",
      "\n",
      "-------------------------------------------\n",
      "Time: 2021-05-05 12:09:45\n",
      "-------------------------------------------\n",
      "('1234AAA A7-KM-50', 2)\n",
      "('1234EEE A7-KM-01', 1)\n",
      "('1234UUU A7-KM-15', 1)\n",
      "('1234AAA A7-KM-30', 1)\n",
      "\n",
      "-------------------------------------------\n",
      "Time: 2021-05-05 12:09:50\n",
      "-------------------------------------------\n",
      "('1234AAA A7-KM-50', 3)\n",
      "('1234EEE A7-KM-01', 1)\n",
      "('1234UUU A7-KM-15', 2)\n",
      "('1234AAA A7-KM-30', 1)\n",
      "('1234UUU A7-KM-30', 1)\n",
      "\n",
      "-------------------------------------------\n",
      "Time: 2021-05-05 12:09:55\n",
      "-------------------------------------------\n",
      "('1234AAA A7-KM-50', 4)\n",
      "('1234EEE A7-KM-15', 1)\n",
      "('1234UUU A7-KM-01', 1)\n",
      "('1234EEE A7-KM-01', 1)\n",
      "('1234UUU A7-KM-15', 2)\n",
      "('1234AAA A7-KM-30', 1)\n",
      "('1234UUU A7-KM-30', 2)\n",
      "('1234AAA A7-KM-01', 1)\n",
      "\n"
     ]
    }
   ],
   "source": [
    "ssc.start()"
   ]
  },
  {
   "cell_type": "code",
   "execution_count": 132,
   "id": "9e547b11-b2b2-4355-997b-4679f3092abe",
   "metadata": {},
   "outputs": [],
   "source": [
    "ssc.stop()\n",
    "sc.stop()"
   ]
  },
  {
   "cell_type": "markdown",
   "id": "51a660b0-d00a-400a-8b9c-08ed3f620b24",
   "metadata": {},
   "source": [
    "Esta app captura matricula y punto en un mismo string; así puedes saber cuando cada matricula pasa por cada punto del sistema y cuantas veces pasa por el mismo punto. "
   ]
  },
  {
   "cell_type": "markdown",
   "id": "automated-castle",
   "metadata": {},
   "source": [
    "### Saber en tiempo real cuántas veces pasa un vehículo por un determinado punto, pero solo teniendo en cuenta los últimos 7 días de información.\n",
    "Incluir las celdas con las respuestas a continuación"
   ]
  },
  {
   "cell_type": "code",
   "execution_count": 101,
   "id": "dc03946a-3b9d-461f-b911-ceaf050edc58",
   "metadata": {},
   "outputs": [],
   "source": [
    "sc = SparkContext(appName=\"ejercicio2\")\n",
    "ssc = StreamingContext(sc, 5)"
   ]
  },
  {
   "cell_type": "code",
   "execution_count": 102,
   "id": "indonesian-cargo",
   "metadata": {},
   "outputs": [],
   "source": [
    "checkpointDir = toUri('/tmp/spark') \n",
    "ssc.checkpoint(checkpointDir)\n",
    "lines = ssc.socketTextStream(\"localhost\", 9876)\n",
    "counts = lines.map(lambda word:(word, 1)\\\n",
    "                  .reduceByKeyAndWindow(lambda a, b:\\\n",
    "                                      a+b, lambda a, b:\\\n",
    "                                      a-b, 604800, 10))\n",
    "counts.pprint()"
   ]
  },
  {
   "cell_type": "code",
   "execution_count": 103,
   "id": "71d06c5c-bf76-41f2-a691-9f756177fa24",
   "metadata": {},
   "outputs": [
    {
     "name": "stdout",
     "output_type": "stream",
     "text": [
      "-------------------------------------------\n",
      "Time: 2021-05-05 11:59:30\n",
      "-------------------------------------------\n",
      "\n"
     ]
    }
   ],
   "source": [
    "ssc.start()"
   ]
  },
  {
   "cell_type": "code",
   "execution_count": 104,
   "id": "ec1bb865-1799-467a-82a8-9a985ffb3475",
   "metadata": {},
   "outputs": [],
   "source": [
    "ssc.stop()\n",
    "sc.stop()"
   ]
  },
  {
   "cell_type": "markdown",
   "id": "nominated-demand",
   "metadata": {},
   "source": [
    "### Elige una de las matrículas que se genera y realiza una vigilancia de este vehículo, queremos saber cuantas veces a sido detectado en cada punto de control durante la última hora.  \n",
    "Incluir las celdas con las respuestas a continuación"
   ]
  },
  {
   "cell_type": "code",
   "execution_count": 176,
   "id": "1fd17098-2765-4211-a685-ccd3e65df547",
   "metadata": {},
   "outputs": [],
   "source": [
    "sc = SparkContext(appName=\"ejercicio2\")\n",
    "ssc = StreamingContext(sc, 5)"
   ]
  },
  {
   "cell_type": "code",
   "execution_count": 177,
   "id": "geographic-fairy",
   "metadata": {},
   "outputs": [],
   "source": [
    "checkpointDir = toUri('/tmp/spark') \n",
    "ssc.checkpoint(checkpointDir)\n",
    "lines = ssc.socketTextStream(\"localhost\", 9876)\n",
    "counts = lines.map(lambda line: (line, 1) if line.startswith('1234AAA') else line).updateStateByKey(update_func)\n",
    "counts.pprint()"
   ]
  },
  {
   "cell_type": "code",
   "execution_count": 178,
   "id": "0869573e-8ccd-4661-8563-3de5df395868",
   "metadata": {},
   "outputs": [
    {
     "name": "stdout",
     "output_type": "stream",
     "text": [
      "-------------------------------------------\n",
      "Time: 2021-05-05 12:25:05\n",
      "-------------------------------------------\n",
      "\n"
     ]
    }
   ],
   "source": [
    "ssc.start()"
   ]
  },
  {
   "cell_type": "code",
   "execution_count": 179,
   "id": "d6957820-6204-4048-b7e0-2790046a2cf9",
   "metadata": {},
   "outputs": [],
   "source": [
    "ssc.stop()\n",
    "sc.stop()"
   ]
  }
 ],
 "metadata": {
  "kernelspec": {
   "display_name": "Python 3",
   "language": "python",
   "name": "python3"
  },
  "language_info": {
   "codemirror_mode": {
    "name": "ipython",
    "version": 3
   },
   "file_extension": ".py",
   "mimetype": "text/x-python",
   "name": "python",
   "nbconvert_exporter": "python",
   "pygments_lexer": "ipython3",
   "version": "3.8.8"
  }
 },
 "nbformat": 4,
 "nbformat_minor": 5
}
