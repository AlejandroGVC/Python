{
 "cells": [
  {
   "cell_type": "markdown",
   "id": "tight-california",
   "metadata": {},
   "source": [
    "# PEC2 – Infr. Big Data – Ejercicio 1 - Spark SQL"
   ]
  },
  {
   "cell_type": "markdown",
   "id": "israeli-peace",
   "metadata": {},
   "source": [
    "## Tratamiento de datos en batch – Spark-sql\n",
    "Aquí podéis incluir las sentencias de importación de paquetes e inicialización que necesitéis"
   ]
  },
  {
   "cell_type": "code",
   "execution_count": 1,
   "id": "occupied-object",
   "metadata": {},
   "outputs": [],
   "source": [
    "#from pathToUri import toUri\n",
    "from pyspark.sql import SparkSession\n",
    "import pyspark.sql.functions as F\n",
    "from pyspark.sql import Window\n",
    "spark = SparkSession.builder.appName('ejercicio1').getOrCreate()"
   ]
  },
  {
   "cell_type": "markdown",
   "id": "bibliographic-baltimore",
   "metadata": {},
   "source": [
    "### Carga el fichero en un DataFrame  de Spark que se llame cars, muestra por pantalla la estructura de cars y las primeras 5 filas \n",
    "Incluir las celdas con las respuestas a continuación"
   ]
  },
  {
   "cell_type": "markdown",
   "id": "51da90f8-5457-480d-81e8-8293b181f67e",
   "metadata": {},
   "source": [
    "Lectura (en mi caso cars esta en la misma carpeta):"
   ]
  },
  {
   "cell_type": "code",
   "execution_count": 2,
   "id": "satisfied-bedroom",
   "metadata": {},
   "outputs": [],
   "source": [
    "cars = spark.read.format('csv')\\\n",
    ".option('sep', ';') \\\n",
    ".option('header', 'true')\\\n",
    ".option('inferSchema', 'true')\\\n",
    ".load('cars.csv')"
   ]
  },
  {
   "cell_type": "markdown",
   "id": "6e74dbb8-fc40-4df3-b0f2-b6e523e6017e",
   "metadata": {},
   "source": [
    "Muestra estructura:"
   ]
  },
  {
   "cell_type": "code",
   "execution_count": 7,
   "id": "20adaded-dc15-493a-b3b7-f32bc94692b9",
   "metadata": {},
   "outputs": [
    {
     "name": "stdout",
     "output_type": "stream",
     "text": [
      "root\n",
      " |-- Car: string (nullable = true)\n",
      " |-- MPG: double (nullable = true)\n",
      " |-- Cylinders: integer (nullable = true)\n",
      " |-- Displacement: double (nullable = true)\n",
      " |-- Horsepower: double (nullable = true)\n",
      " |-- Weight: decimal(4,0) (nullable = true)\n",
      " |-- Acceleration: double (nullable = true)\n",
      " |-- Model: integer (nullable = true)\n",
      " |-- Origin: string (nullable = true)\n",
      "\n"
     ]
    }
   ],
   "source": [
    "cars.printSchema()"
   ]
  },
  {
   "cell_type": "markdown",
   "id": "b90237de-e6b6-4729-8bcf-14a8c2f24512",
   "metadata": {},
   "source": [
    "Muestro los 5 primeros registros:"
   ]
  },
  {
   "cell_type": "code",
   "execution_count": 8,
   "id": "db19d34d-44aa-4d63-9732-5c8b7191dbb2",
   "metadata": {},
   "outputs": [
    {
     "name": "stdout",
     "output_type": "stream",
     "text": [
      "+--------------------+----+---------+------------+----------+------+------------+-----+------+\n",
      "|                 Car| MPG|Cylinders|Displacement|Horsepower|Weight|Acceleration|Model|Origin|\n",
      "+--------------------+----+---------+------------+----------+------+------------+-----+------+\n",
      "|Chevrolet Chevell...|18.0|        8|       307.0|     130.0|  3504|        12.0|   70|    US|\n",
      "|   Buick Skylark 320|15.0|        8|       350.0|     165.0|  3693|        11.5|   70|    US|\n",
      "|  Plymouth Satellite|18.0|        8|       318.0|     150.0|  3436|        11.0|   70|    US|\n",
      "|       AMC Rebel SST|16.0|        8|       304.0|     150.0|  3433|        12.0|   70|    US|\n",
      "|         Ford Torino|17.0|        8|       302.0|     140.0|  3449|        10.5|   70|    US|\n",
      "+--------------------+----+---------+------------+----------+------+------------+-----+------+\n",
      "only showing top 5 rows\n",
      "\n"
     ]
    }
   ],
   "source": [
    "cars.show(5)"
   ]
  },
  {
   "cell_type": "markdown",
   "id": "stable-bowling",
   "metadata": {},
   "source": [
    "### Usando el framework de spark-sql muestra las columnas \"Cars\" y \"Cylinders\" de todos los vehículos que sean de \"Europa\"\n",
    "Incluir las celdas con las respuestas a continuación"
   ]
  },
  {
   "cell_type": "code",
   "execution_count": 9,
   "id": "important-queen",
   "metadata": {},
   "outputs": [
    {
     "name": "stdout",
     "output_type": "stream",
     "text": [
      "+--------------------+---------+------+\n",
      "|                 Car|Cylinders|Origin|\n",
      "+--------------------+---------+------+\n",
      "|Citroen DS-21 Pallas|        4|Europe|\n",
      "|Volkswagen 1131 D...|        4|Europe|\n",
      "|         Peugeot 504|        4|Europe|\n",
      "|         Audi 100 LS|        4|Europe|\n",
      "|            Saab 99e|        4|Europe|\n",
      "|            BMW 2002|        4|Europe|\n",
      "|Volkswagen Super ...|        4|Europe|\n",
      "|           Opel 1900|        4|Europe|\n",
      "|         Peugeot 304|        4|Europe|\n",
      "|           Fiat 124B|        4|Europe|\n",
      "|Volkswagen Model 111|        4|Europe|\n",
      "|   Volkswagen Type 3|        4|Europe|\n",
      "|     Volvo 145e (sw)|        4|Europe|\n",
      "| Volkswagen 411 (sw)|        4|Europe|\n",
      "|    Peugeot 504 (sw)|        4|Europe|\n",
      "|     Renault 12 (sw)|        4|Europe|\n",
      "|Volkswagen Super ...|        4|Europe|\n",
      "|Fiat 124 Sport Coupe|        4|Europe|\n",
      "|            Fiat 128|        4|Europe|\n",
      "|          Opel Manta|        4|Europe|\n",
      "+--------------------+---------+------+\n",
      "only showing top 20 rows\n",
      "\n"
     ]
    }
   ],
   "source": [
    "#cars.select('Car', 'Cylinders').where('Origin==Europe').show()\n",
    "cars.select('Car', 'Cylinders', 'Origin')\\\n",
    ".filter(F.col('Origin')=='Europe')\\\n",
    ".show()"
   ]
  },
  {
   "cell_type": "markdown",
   "id": "buried-gazette",
   "metadata": {},
   "source": [
    "### Obtener la media de \"Horsepower\", \"Weight\" y \"Acceleration\" por \"Origen\"   \n",
    "Incluir las celdas con las respuestas a continuación"
   ]
  },
  {
   "cell_type": "code",
   "execution_count": 10,
   "id": "general-project",
   "metadata": {},
   "outputs": [
    {
     "name": "stdout",
     "output_type": "stream",
     "text": [
      "+------+------------------+----------+------------------+\n",
      "|Origin|    Media Caballos|Media Peso| Media Aceleración|\n",
      "+------+------------------+----------+------------------+\n",
      "|Europe| 78.78082191780823| 2431.4932| 16.82191780821918|\n",
      "|    US|118.01181102362204| 3372.7008|14.942519685039361|\n",
      "| Japan| 79.83544303797468| 2221.2278|16.172151898734175|\n",
      "+------+------------------+----------+------------------+\n",
      "\n"
     ]
    }
   ],
   "source": [
    "cars.groupBy('Origin')\\\n",
    ".agg(F.mean('Horsepower').alias('Media Caballos'),\\\n",
    "     F.mean('Weight').alias('Media Peso'),\\\n",
    "     F.mean('Acceleration').alias('Media Aceleración')).show()"
   ]
  },
  {
   "cell_type": "markdown",
   "id": "painted-campus",
   "metadata": {},
   "source": [
    "### Calcular el ratio entre potencia y peso y a continuación sacar la media por cantidad de cilindros \n",
    "Incluir las celdas con las respuestas a continuación"
   ]
  },
  {
   "cell_type": "code",
   "execution_count": 11,
   "id": "supported-bouquet",
   "metadata": {},
   "outputs": [],
   "source": [
    "RatioPotenciaPeso = cars.withColumn('Ratio', F.col('Horsepower')/F.col('Weight'))"
   ]
  },
  {
   "cell_type": "code",
   "execution_count": 12,
   "id": "1b7b6596-991f-46c5-a8d3-1817f6272f6e",
   "metadata": {},
   "outputs": [
    {
     "name": "stdout",
     "output_type": "stream",
     "text": [
      "+---------+--------------------+\n",
      "|Cylinders|          avg(Ratio)|\n",
      "+---------+--------------------+\n",
      "|        6| 0.03163238614784404|\n",
      "|        3|0.041441818290915214|\n",
      "|        5|0.026973551761855744|\n",
      "|        4|0.033217183371144564|\n",
      "|        8| 0.03872856292574305|\n",
      "+---------+--------------------+\n",
      "\n"
     ]
    }
   ],
   "source": [
    "RatioPotenciaPeso.groupBy('Cylinders').mean('Ratio').show()"
   ]
  },
  {
   "cell_type": "markdown",
   "id": "behavioral-machine",
   "metadata": {},
   "source": [
    "### Queremos tener información de la potencia (Horsepower) de los vehículos según su cilindrada, para ello hay que elaborar el ranking de potencia de los vehículos por cilindors. Se necesita presentar los dos primeros vehículos de cada cilindrada\n",
    "Incluir las celdas con las respuestas a continuación"
   ]
  },
  {
   "cell_type": "code",
   "execution_count": 13,
   "id": "appreciated-discipline",
   "metadata": {},
   "outputs": [],
   "source": [
    "window = Window \\\n",
    ".partitionBy(\"Cylinders\")\\\n",
    ".orderBy(F.desc(\"Horsepower\"))\\\n",
    ".rowsBetween(Window.unboundedPreceding, Window.currentRow)"
   ]
  },
  {
   "cell_type": "code",
   "execution_count": 14,
   "id": "1b7eb9a7-d0f3-424c-8433-feaf1a2efc47",
   "metadata": {},
   "outputs": [],
   "source": [
    "RankHorsepower = F.rank().over(window)"
   ]
  },
  {
   "cell_type": "code",
   "execution_count": 15,
   "id": "2836d929-24e9-4eb6-9825-ab7ab33a30d6",
   "metadata": {},
   "outputs": [
    {
     "name": "stdout",
     "output_type": "stream",
     "text": [
      "+---------+----------+--------------------+-------+\n",
      "|Cylinders|Horsepower|                 Car|Ranking|\n",
      "+---------+----------+--------------------+-------+\n",
      "|        6|     165.0|Buick Regal Sport...|      1|\n",
      "|        6|     133.0|       Peugeot 604sl|      2|\n",
      "|        3|     110.0|          Mazda RX-4|      1|\n",
      "|        3|     100.0|       Mazda RX-7 GS|      2|\n",
      "|        5|     103.0|           Audi 5000|      1|\n",
      "|        5|      77.0|  Mercedes Benz 300d|      2|\n",
      "|        4|     115.0|Citroen DS-21 Pallas|      1|\n",
      "|        4|     115.0|           Saab 99LE|      1|\n",
      "|        4|     115.0|          Saab 99gle|      1|\n",
      "|        8|     230.0|  Pontiac Grand Prix|      1|\n",
      "|        8|     225.0|    Pontiac Catalina|      2|\n",
      "|        8|     225.0|Buick Estate Wago...|      2|\n",
      "|        8|     225.0|Buick Electra 225...|      2|\n",
      "+---------+----------+--------------------+-------+\n",
      "\n"
     ]
    }
   ],
   "source": [
    "cars.select(cars['Cylinders'], cars['Horsepower'], cars['Car'], RankHorsepower.alias('Ranking'))\\\n",
    "    .filter((F.col('Ranking') == 1) | (F.col('Ranking') == 2)).show()"
   ]
  },
  {
   "cell_type": "code",
   "execution_count": null,
   "id": "86cff1df-7324-492c-955b-34a03960a345",
   "metadata": {},
   "outputs": [],
   "source": []
  }
 ],
 "metadata": {
  "kernelspec": {
   "display_name": "Python 3",
   "language": "python",
   "name": "python3"
  },
  "language_info": {
   "codemirror_mode": {
    "name": "ipython",
    "version": 3
   },
   "file_extension": ".py",
   "mimetype": "text/x-python",
   "name": "python",
   "nbconvert_exporter": "python",
   "pygments_lexer": "ipython3",
   "version": "3.8.8"
  }
 },
 "nbformat": 4,
 "nbformat_minor": 5
}
