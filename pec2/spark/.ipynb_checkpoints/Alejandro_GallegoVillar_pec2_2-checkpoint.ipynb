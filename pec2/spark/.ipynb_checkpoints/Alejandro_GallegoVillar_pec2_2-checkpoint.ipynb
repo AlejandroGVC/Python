{
 "cells": [
  {
   "cell_type": "markdown",
   "id": "olive-france",
   "metadata": {},
   "source": [
    "# PEC2 – Infr. Big Data – Ejercicio 2 - Spark Streaming"
   ]
  },
  {
   "cell_type": "markdown",
   "id": "approximate-burning",
   "metadata": {},
   "source": [
    "## Tratamiento de datos en streaming\n",
    "Aquí podéis incluir las sentencias de importación de paquetes e inicialización que necesitéis"
   ]
  },
  {
   "cell_type": "code",
   "execution_count": 7,
   "id": "international-layer",
   "metadata": {},
   "outputs": [],
   "source": [
    "from pyspark import SparkContext\n",
    "from pyspark.streaming import StreamingContext\n",
    "from pathToUri import toUri"
   ]
  },
  {
   "cell_type": "code",
   "execution_count": 8,
   "id": "cf4f3efb-049c-48c3-8e1a-a6bed7eddc4c",
   "metadata": {},
   "outputs": [],
   "source": [
    "def update_func(new_val, last_sum):\n",
    "    return sum(new_val) + (last_sum or 0)\n",
    "\n",
    "def transforma_a_segundos(dias=None, horas=None):\n",
    "    if dias != None:\n",
    "        return dias * 24 * 60 * 60\n",
    "    if horas != None:\n",
    "        return  horas * 60 * 60\n",
    "    else: \n",
    "        pass"
   ]
  },
  {
   "cell_type": "markdown",
   "id": "executive-commissioner",
   "metadata": {},
   "source": [
    "### Saber en tiempo real cuantas veces pasa un vehículo por cada punto del sistema desde el día que se pone en marcha el mecanismo.  \n",
    "Incluir las celdas con las respuestas a continuación"
   ]
  },
  {
   "cell_type": "code",
   "execution_count": 12,
   "id": "sunrise-standing",
   "metadata": {},
   "outputs": [],
   "source": [
    "sc = SparkContext('local[*]', appName=\"ejercicio2\")\n",
    "ssc = StreamingContext(sc, 5)"
   ]
  },
  {
   "cell_type": "code",
   "execution_count": 13,
   "id": "1968c53c-d416-4df7-a175-42d16f5d6fd3",
   "metadata": {},
   "outputs": [],
   "source": [
    "# To maintain status info we need to use checkpoints.\n",
    "checkpointDir = toUri('/tmp/spark') \n",
    "ssc.checkpoint(checkpointDir)  # create dir for checkpoint archives\n",
    "\n",
    "lines = ssc.socketTextStream(\"localhost\", 9876)\n",
    "counts = lines.map(lambda line: (line, 1))\\\n",
    "              .updateStateByKey(update_func)\n",
    "\n",
    "counts.pprint()"
   ]
  },
  {
   "cell_type": "code",
   "execution_count": 14,
   "id": "7fb4d0ff-fd16-4e35-b803-8f77a8d5e18f",
   "metadata": {},
   "outputs": [
    {
     "name": "stdout",
     "output_type": "stream",
     "text": [
      "-------------------------------------------\n",
      "Time: 2021-05-06 11:51:05\n",
      "-------------------------------------------\n",
      "\n",
      "-------------------------------------------\n",
      "Time: 2021-05-06 11:51:10\n",
      "-------------------------------------------\n",
      "('1234AAA A7-KM-15', 1)\n",
      "('1234EEE A7-KM-30', 1)\n",
      "\n",
      "-------------------------------------------\n",
      "Time: 2021-05-06 11:51:15\n",
      "-------------------------------------------\n",
      "('1234AAA A7-KM-15', 1)\n",
      "('1234EEE A7-KM-30', 2)\n",
      "('1234AAA A7-KM-50', 1)\n",
      "('1234AAA A7-KM-01', 1)\n",
      "('1234UUU A7-KM-30', 1)\n",
      "\n"
     ]
    }
   ],
   "source": [
    "ssc.start()"
   ]
  },
  {
   "cell_type": "code",
   "execution_count": 15,
   "id": "2c30d1a2-1f62-4e85-bfaa-078a05856200",
   "metadata": {},
   "outputs": [
    {
     "name": "stdout",
     "output_type": "stream",
     "text": [
      "-------------------------------------------\n",
      "Time: 2021-05-06 11:51:20\n",
      "-------------------------------------------\n",
      "('1234AAA A7-KM-15', 2)\n",
      "('1234EEE A7-KM-30', 2)\n",
      "('1234AAA A7-KM-50', 1)\n",
      "('1234UUU A7-KM-50', 1)\n",
      "('1234EEE A7-KM-15', 1)\n",
      "('1234AAA A7-KM-01', 1)\n",
      "('1234UUU A7-KM-30', 1)\n",
      "('1234EEE A7-KM-01', 1)\n",
      "\n"
     ]
    }
   ],
   "source": [
    "ssc.stop()\n",
    "sc.stop()"
   ]
  },
  {
   "cell_type": "markdown",
   "id": "f58486a7-69a4-4244-a378-bb679f777fd0",
   "metadata": {},
   "source": [
    "Esta app captura matricula y punto en un mismo string; así puedes saber cuando cada matricula pasa por cada punto del sistema y cuantas veces pasa por el mismo punto."
   ]
  },
  {
   "cell_type": "markdown",
   "id": "automated-castle",
   "metadata": {},
   "source": [
    "### Saber en tiempo real cuántas veces pasa un vehículo por un determinado punto, pero solo teniendo en cuenta los últimos 7 días de información.\n",
    "Incluir las celdas con las respuestas a continuación"
   ]
  },
  {
   "cell_type": "code",
   "execution_count": 16,
   "id": "indonesian-cargo",
   "metadata": {},
   "outputs": [],
   "source": [
    "sc = SparkContext('local[*]', appName=\"ejercicio2\")\n",
    "ssc = StreamingContext(sc, 10)"
   ]
  },
  {
   "cell_type": "code",
   "execution_count": 17,
   "id": "7b927cee-f20d-4749-9b47-66ad28456696",
   "metadata": {},
   "outputs": [],
   "source": [
    "segs = transforma_a_segundos(dias=7)"
   ]
  },
  {
   "cell_type": "code",
   "execution_count": 18,
   "id": "aea4e573-4c7a-4254-998b-b06a7d91a1b1",
   "metadata": {},
   "outputs": [],
   "source": [
    "ssc.checkpoint(checkpointDir)\n",
    "lines = ssc.socketTextStream(\"localhost\", 9876)\n",
    "counts = lines.map(lambda line:(line, 1))\\\n",
    "              .window(segs, 10)\\\n",
    "              .updateStateByKey(update_func)\n",
    "counts.pprint()"
   ]
  },
  {
   "cell_type": "code",
   "execution_count": 19,
   "id": "e3cafe4e-fe8d-4d6e-896e-ba10cddabe09",
   "metadata": {},
   "outputs": [
    {
     "name": "stdout",
     "output_type": "stream",
     "text": [
      "-------------------------------------------\n",
      "Time: 2021-05-06 11:51:40\n",
      "-------------------------------------------\n",
      "('1234UUU A7-KM-15', 1)\n",
      "('1234EEE A7-KM-01', 1)\n",
      "\n",
      "-------------------------------------------\n",
      "Time: 2021-05-06 11:51:50\n",
      "-------------------------------------------\n",
      "('1234UUU A7-KM-01', 2)\n",
      "('1234EEE A7-KM-30', 1)\n",
      "('1234UUU A7-KM-15', 3)\n",
      "('1234EEE A7-KM-01', 2)\n",
      "('1234UUU A7-KM-30', 1)\n",
      "('1234AAA A7-KM-01', 2)\n",
      "\n"
     ]
    }
   ],
   "source": [
    "ssc.start()"
   ]
  },
  {
   "cell_type": "code",
   "execution_count": 20,
   "id": "4623278b-f7b3-418f-bbdf-98bb19c39c71",
   "metadata": {},
   "outputs": [],
   "source": [
    "ssc.stop()\n",
    "sc.stop()"
   ]
  },
  {
   "cell_type": "markdown",
   "id": "6dfc9da4-cdeb-44d8-919e-ff28a7d89284",
   "metadata": {},
   "source": [
    "Crea un nuevo DStream que se computa basándose en la ventana que le hemos dado (7 días)."
   ]
  },
  {
   "cell_type": "markdown",
   "id": "nominated-demand",
   "metadata": {},
   "source": [
    "### Elige una de las matrículas que se genera y realiza una vigilancia de este vehículo, queremos saber cuantas veces a sido detectado en cada punto de control durante la última hora.  \n",
    "Incluir las celdas con las respuestas a continuación"
   ]
  },
  {
   "cell_type": "code",
   "execution_count": 21,
   "id": "geographic-fairy",
   "metadata": {},
   "outputs": [],
   "source": [
    "sc = SparkContext('local[*]',appName=\"ejercicio2\")\n",
    "ssc = StreamingContext(sc, 5)"
   ]
  },
  {
   "cell_type": "code",
   "execution_count": 22,
   "id": "42448058-86f6-4540-83c1-b848c2075ccc",
   "metadata": {},
   "outputs": [],
   "source": [
    "segs = transforma_a_segundos(horas=1)"
   ]
  },
  {
   "cell_type": "code",
   "execution_count": 23,
   "id": "5ff3573b-bb81-4c92-a1e5-17cc60c7d566",
   "metadata": {},
   "outputs": [],
   "source": [
    "checkpointDir = toUri('/tmp/spark') \n",
    "ssc.checkpoint(checkpointDir)\n",
    "lines = ssc.socketTextStream(\"localhost\", 9876)\n",
    "counts = lines.map(lambda line:(line, 1))\\\n",
    "              .filter(lambda line: line[0].startswith('1234AAA'))\\\n",
    "              .window(segs, 10)\\\n",
    "              .updateStateByKey(update_func)\n",
    "counts.pprint()"
   ]
  },
  {
   "cell_type": "code",
   "execution_count": 24,
   "id": "f7c27214-122a-43f2-a38f-3d8bd3ef3293",
   "metadata": {},
   "outputs": [
    {
     "name": "stdout",
     "output_type": "stream",
     "text": [
      "-------------------------------------------\n",
      "Time: 2021-05-06 11:52:10\n",
      "-------------------------------------------\n",
      "\n",
      "-------------------------------------------\n",
      "Time: 2021-05-06 11:52:20\n",
      "-------------------------------------------\n",
      "\n",
      "-------------------------------------------\n",
      "Time: 2021-05-06 11:52:30\n",
      "-------------------------------------------\n",
      "('1234AAA A7-KM-50', 1)\n",
      "('1234AAA A7-KM-15', 1)\n",
      "('1234AAA A7-KM-01', 1)\n",
      "\n"
     ]
    }
   ],
   "source": [
    "ssc.start()"
   ]
  },
  {
   "cell_type": "code",
   "execution_count": 25,
   "id": "ff362adf-756d-4d12-8990-a9f7f08b2519",
   "metadata": {},
   "outputs": [],
   "source": [
    "ssc.stop()\n",
    "sc.stop()"
   ]
  },
  {
   "cell_type": "markdown",
   "id": "2bcaf9e1-8bb4-445c-8ede-01ceed7772cc",
   "metadata": {},
   "source": [
    "Esta app filtra solo las matriculas '1234AAA' accediendo al primer termino de la tupla ('matricula + km', numero). Con la ventana cogemos solo los datos de la última hora."
   ]
  },
  {
   "cell_type": "code",
   "execution_count": null,
   "id": "a96a4268-7651-4b3a-bc4c-d6be6eeffb48",
   "metadata": {},
   "outputs": [],
   "source": []
  }
 ],
 "metadata": {
  "kernelspec": {
   "display_name": "Python 3",
   "language": "python",
   "name": "python3"
  },
  "language_info": {
   "codemirror_mode": {
    "name": "ipython",
    "version": 3
   },
   "file_extension": ".py",
   "mimetype": "text/x-python",
   "name": "python",
   "nbconvert_exporter": "python",
   "pygments_lexer": "ipython3",
   "version": "3.8.8"
  }
 },
 "nbformat": 4,
 "nbformat_minor": 5
}
