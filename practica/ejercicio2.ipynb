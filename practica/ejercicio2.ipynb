{
 "cells": [
  {
   "cell_type": "markdown",
   "metadata": {},
   "source": [
    "# PEC2 – Infr. Big Data – Ejercicio 2 - Spark Streaming"
   ]
  },
  {
   "cell_type": "markdown",
   "metadata": {},
   "source": [
    "## Tratamiento de datos en streaming\n",
    "Aquí podéis incluir las sentencias de importación de paquetes e inicialización que necesitéis"
   ]
  },
  {
   "cell_type": "code",
   "execution_count": 76,
   "metadata": {},
   "outputs": [],
   "source": [
    "import os\n",
    "import findspark\n",
    "findspark.init(os.environ['SPARK_HOME'])\n",
    "\n",
    "from pyspark import SparkContext\n",
    "from pyspark.streaming import StreamingContext"
   ]
  },
  {
   "cell_type": "code",
   "execution_count": 77,
   "metadata": {},
   "outputs": [],
   "source": [
    "sc = SparkContext(appName=\"vehiculos\")\n",
    "ssc = StreamingContext(sc, 10)"
   ]
  },
  {
   "cell_type": "code",
   "execution_count": 49,
   "metadata": {},
   "outputs": [],
   "source": [
    "def update_func(new_val, last_sum):\n",
    "    return sum(new_val) + (last_sum or 0)"
   ]
  },
  {
   "cell_type": "code",
   "execution_count": 50,
   "metadata": {},
   "outputs": [],
   "source": [
    "# To maintain status info we need to use checkpoints.\n",
    "checkpointDir = \"file:///tmp/spark\" # toUri('/tmp/spark') == \"file:///tmp/spark\"\n",
    "ssc.checkpoint(checkpointDir)  # create dir for checkpoint archives\n",
    "\n",
    "lines = ssc.socketTextStream(\"localhost\", 9876)\n",
    "counts = lines.flatMap(lambda line: line.split(\" \"))\\\n",
    "              .map(lambda word: (word, 1))\\\n",
    "              .updateStateByKey(update_func)\n",
    "\n",
    "counts.pprint()"
   ]
  },
  {
   "cell_type": "markdown",
   "metadata": {},
   "source": [
    "### Saber en tiempo real cuantas veces pasa un vehículo por cada punto del sistema desde el día que se pone en marcha el mecanismo.  \n",
    "Incluir las celdas con las respuestas a continuación"
   ]
  },
  {
   "cell_type": "code",
   "execution_count": 51,
   "metadata": {},
   "outputs": [],
   "source": [
    "# To maintain status info we need to use checkpoints.\n",
    "checkpointDir = \"file:///tmp/spark\" # toUri('/tmp/spark') == \"file:///tmp/spark\"\n",
    "ssc.checkpoint(checkpointDir)  # create dir for checkpoint archives\n",
    "\n",
    "lines = ssc.socketTextStream(\"localhost\", 9876)\n",
    "counts = lines\\\n",
    "              .map(lambda word: (word, 1))\\\n",
    "              .updateStateByKey(update_func)\n",
    "\n",
    "counts.pprint()"
   ]
  },
  {
   "cell_type": "code",
   "execution_count": 25,
   "metadata": {},
   "outputs": [],
   "source": [
    "ssc.stop()"
   ]
  },
  {
   "cell_type": "markdown",
   "metadata": {},
   "source": [
    "### Saber en tiempo real cuántas veces pasa un vehículo por un determinado punto, pero solo teniendo en cuenta los últimos 7 días de información.\n",
    "Incluir las celdas con las respuestas a continuación"
   ]
  },
  {
   "cell_type": "code",
   "execution_count": null,
   "metadata": {},
   "outputs": [],
   "source": []
  },
  {
   "cell_type": "markdown",
   "metadata": {},
   "source": [
    "### Elige una de las matrículas que se genera y realiza una vigilancia de este vehículo, queremos saber cuantas veces a sido detectado en cada punto de control durante la última hora.  \n",
    "Incluir las celdas con las respuestas a continuación"
   ]
  },
  {
   "cell_type": "code",
   "execution_count": 78,
   "metadata": {},
   "outputs": [],
   "source": [
    "def update_func(new_val, last_sum):\n",
    "    print(new_val)\n",
    "    return sum(new_val) + (last_sum or 0)"
   ]
  },
  {
   "cell_type": "code",
   "execution_count": 79,
   "metadata": {},
   "outputs": [],
   "source": [
    "# To maintain status info we need to use checkpoints.\n",
    "checkpointDir = \"file:///tmp/spark\" # toUri('/tmp/spark') == \"file:///tmp/spark\"\n",
    "ssc.checkpoint(checkpointDir)  # create dir for checkpoint archives\n",
    "\n",
    "lines = ssc.socketTextStream(\"localhost\", 9876)\n",
    "counts = lines.map(lambda word: (word,1) if word.startswith('1234AAA') else (\"NOVALE\",0) ) \\\n",
    "              .updateStateByKey(update_func)\n",
    "\n",
    "counts.pprint()"
   ]
  },
  {
   "cell_type": "code",
   "execution_count": 80,
   "metadata": {},
   "outputs": [
    {
     "name": "stdout",
     "output_type": "stream",
     "text": [
      "-------------------------------------------\n",
      "Time: 2021-04-29 18:45:20\n",
      "-------------------------------------------\n",
      "('1234AAA A7-KM-30', 1)\n",
      "('NOVALE', 0)\n",
      "\n",
      "-------------------------------------------\n",
      "Time: 2021-04-29 18:45:30\n",
      "-------------------------------------------\n",
      "('1234AAA A7-KM-50', 3)\n",
      "('1234AAA A7-KM-30', 2)\n",
      "('NOVALE', 0)\n",
      "\n",
      "-------------------------------------------\n",
      "Time: 2021-04-29 18:45:40\n",
      "-------------------------------------------\n",
      "('1234AAA A7-KM-50', 4)\n",
      "('1234AAA A7-KM-30', 3)\n",
      "('1234AAA A7-KM-01', 1)\n",
      "('NOVALE', 0)\n",
      "\n",
      "-------------------------------------------\n",
      "Time: 2021-04-29 18:45:50\n",
      "-------------------------------------------\n",
      "('1234AAA A7-KM-50', 4)\n",
      "('1234AAA A7-KM-15', 1)\n",
      "('1234AAA A7-KM-30', 3)\n",
      "('1234AAA A7-KM-01', 3)\n",
      "('NOVALE', 0)\n",
      "\n",
      "-------------------------------------------\n",
      "Time: 2021-04-29 18:46:00\n",
      "-------------------------------------------\n",
      "('1234AAA A7-KM-50', 5)\n",
      "('1234AAA A7-KM-15', 1)\n",
      "('1234AAA A7-KM-30', 3)\n",
      "('1234AAA A7-KM-01', 4)\n",
      "('NOVALE', 0)\n",
      "\n",
      "-------------------------------------------\n",
      "Time: 2021-04-29 18:46:10\n",
      "-------------------------------------------\n",
      "('1234AAA A7-KM-50', 5)\n",
      "('1234AAA A7-KM-15', 1)\n",
      "('1234AAA A7-KM-30', 3)\n",
      "('1234AAA A7-KM-01', 6)\n",
      "('NOVALE', 0)\n",
      "\n",
      "-------------------------------------------\n",
      "Time: 2021-04-29 18:46:20\n",
      "-------------------------------------------\n",
      "('1234AAA A7-KM-50', 5)\n",
      "('1234AAA A7-KM-15', 1)\n",
      "('1234AAA A7-KM-30', 3)\n",
      "('1234AAA A7-KM-01', 10)\n",
      "('NOVALE', 0)\n",
      "\n",
      "-------------------------------------------\n",
      "Time: 2021-04-29 18:46:30\n",
      "-------------------------------------------\n",
      "('1234AAA A7-KM-50', 5)\n",
      "('1234AAA A7-KM-15', 2)\n",
      "('1234AAA A7-KM-30', 3)\n",
      "('1234AAA A7-KM-01', 10)\n",
      "('NOVALE', 0)\n",
      "\n",
      "-------------------------------------------\n",
      "Time: 2021-04-29 18:46:40\n",
      "-------------------------------------------\n",
      "('1234AAA A7-KM-50', 6)\n",
      "('1234AAA A7-KM-15', 3)\n",
      "('1234AAA A7-KM-30', 3)\n",
      "('1234AAA A7-KM-01', 10)\n",
      "('NOVALE', 0)\n",
      "\n",
      "-------------------------------------------\n",
      "Time: 2021-04-29 18:46:50\n",
      "-------------------------------------------\n",
      "('1234AAA A7-KM-50', 6)\n",
      "('1234AAA A7-KM-15', 4)\n",
      "('1234AAA A7-KM-30', 3)\n",
      "('1234AAA A7-KM-01', 10)\n",
      "('NOVALE', 0)\n",
      "\n",
      "-------------------------------------------\n",
      "Time: 2021-04-29 18:47:00\n",
      "-------------------------------------------\n",
      "('1234AAA A7-KM-50', 6)\n",
      "('1234AAA A7-KM-15', 4)\n",
      "('1234AAA A7-KM-30', 5)\n",
      "('1234AAA A7-KM-01', 11)\n",
      "('NOVALE', 0)\n",
      "\n",
      "-------------------------------------------\n",
      "Time: 2021-04-29 18:47:10\n",
      "-------------------------------------------\n",
      "('1234AAA A7-KM-50', 6)\n",
      "('1234AAA A7-KM-15', 4)\n",
      "('1234AAA A7-KM-30', 5)\n",
      "('1234AAA A7-KM-01', 11)\n",
      "('NOVALE', 0)\n",
      "\n",
      "-------------------------------------------\n",
      "Time: 2021-04-29 18:47:20\n",
      "-------------------------------------------\n",
      "('1234AAA A7-KM-50', 8)\n",
      "('1234AAA A7-KM-15', 5)\n",
      "('1234AAA A7-KM-30', 6)\n",
      "('1234AAA A7-KM-01', 11)\n",
      "('NOVALE', 0)\n",
      "\n",
      "-------------------------------------------\n",
      "Time: 2021-04-29 18:47:30\n",
      "-------------------------------------------\n",
      "('1234AAA A7-KM-50', 8)\n",
      "('1234AAA A7-KM-15', 5)\n",
      "('1234AAA A7-KM-30', 6)\n",
      "('1234AAA A7-KM-01', 12)\n",
      "('NOVALE', 0)\n",
      "\n",
      "-------------------------------------------\n",
      "Time: 2021-04-29 18:47:40\n",
      "-------------------------------------------\n",
      "('1234AAA A7-KM-50', 8)\n",
      "('1234AAA A7-KM-15', 5)\n",
      "('1234AAA A7-KM-30', 6)\n",
      "('1234AAA A7-KM-01', 12)\n",
      "('NOVALE', 0)\n",
      "\n"
     ]
    }
   ],
   "source": [
    "ssc.start()"
   ]
  },
  {
   "cell_type": "code",
   "execution_count": 75,
   "metadata": {},
   "outputs": [],
   "source": [
    "ssc.stop()"
   ]
  },
  {
   "cell_type": "code",
   "execution_count": null,
   "metadata": {},
   "outputs": [],
   "source": []
  }
 ],
 "metadata": {
  "kernelspec": {
   "display_name": "Python 3",
   "language": "python",
   "name": "python3"
  },
  "language_info": {
   "codemirror_mode": {
    "name": "ipython",
    "version": 3
   },
   "file_extension": ".py",
   "mimetype": "text/x-python",
   "name": "python",
   "nbconvert_exporter": "python",
   "pygments_lexer": "ipython3",
   "version": "3.8.5"
  }
 },
 "nbformat": 4,
 "nbformat_minor": 5
}
