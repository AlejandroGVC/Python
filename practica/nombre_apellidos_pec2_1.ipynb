{
 "cells": [
  {
   "cell_type": "markdown",
   "id": "tight-california",
   "metadata": {},
   "source": [
    "# PEC2 – Infr. Big Data – Ejercicio 1 - Spark SQL"
   ]
  },
  {
   "cell_type": "markdown",
   "id": "israeli-peace",
   "metadata": {},
   "source": [
    "## Tratamiento de datos en batch – Spark-sql\n",
    "Aquí podéis incluir las sentencias de importación de paquetes e inicialización que necesitéis"
   ]
  },
  {
   "cell_type": "code",
   "execution_count": null,
   "id": "occupied-object",
   "metadata": {},
   "outputs": [],
   "source": []
  },
  {
   "cell_type": "markdown",
   "id": "bibliographic-baltimore",
   "metadata": {},
   "source": [
    "### Carga el fichero en un DataFrame  de Spark que se llame cars, muestra por pantalla la estructura de cars y las primeras 5 filas \n",
    "Incluir las celdas con las respuestas a continuación"
   ]
  },
  {
   "cell_type": "code",
   "execution_count": null,
   "id": "satisfied-bedroom",
   "metadata": {},
   "outputs": [],
   "source": []
  },
  {
   "cell_type": "markdown",
   "id": "stable-bowling",
   "metadata": {},
   "source": [
    "### Usando el framework de spark-sql muestra las columnas \"Cars\" y \"Cylinders\" de todos los vehículos que sean de \"Europa\"\n",
    "Incluir las celdas con las respuestas a continuación"
   ]
  },
  {
   "cell_type": "code",
   "execution_count": null,
   "id": "important-queen",
   "metadata": {},
   "outputs": [],
   "source": []
  },
  {
   "cell_type": "markdown",
   "id": "buried-gazette",
   "metadata": {},
   "source": [
    "### Obtener la media de \"Horsepower\", \"Weight\" y \"Acceleration\" por \"Origen\"   \n",
    "Incluir las celdas con las respuestas a continuación"
   ]
  },
  {
   "cell_type": "code",
   "execution_count": null,
   "id": "general-project",
   "metadata": {},
   "outputs": [],
   "source": []
  },
  {
   "cell_type": "markdown",
   "id": "painted-campus",
   "metadata": {},
   "source": [
    "### Calcular el ratio entre potencia y peso y a continuación sacar la media por cantidad de cilindros \n",
    "Incluir las celdas con las respuestas a continuación"
   ]
  },
  {
   "cell_type": "code",
   "execution_count": null,
   "id": "supported-bouquet",
   "metadata": {},
   "outputs": [],
   "source": []
  },
  {
   "cell_type": "markdown",
   "id": "behavioral-machine",
   "metadata": {},
   "source": [
    "### Queremos tener información de la potencia (Horsepower) de los vehículos según su cilindrada, para ello hay que elaborar el ranking de potencia de los vehículos por cilindors. Se necesita presentar los dos primeros vehículos de cada cilindrada\n",
    "Incluir las celdas con las respuestas a continuación"
   ]
  },
  {
   "cell_type": "code",
   "execution_count": null,
   "id": "appreciated-discipline",
   "metadata": {},
   "outputs": [],
   "source": []
  }
 ],
 "metadata": {
  "kernelspec": {
   "display_name": "Python 3",
   "language": "python",
   "name": "python3"
  },
  "language_info": {
   "codemirror_mode": {
    "name": "ipython",
    "version": 3
   },
   "file_extension": ".py",
   "mimetype": "text/x-python",
   "name": "python",
   "nbconvert_exporter": "python",
   "pygments_lexer": "ipython3",
   "version": "3.8.6"
  }
 },
 "nbformat": 4,
 "nbformat_minor": 5
}
