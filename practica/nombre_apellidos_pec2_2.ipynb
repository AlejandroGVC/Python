{
 "cells": [
  {
   "cell_type": "markdown",
   "id": "58f22da0",
   "metadata": {},
   "source": [
    "# PEC2 – Infr. Big Data – Ejercicio 2 - Spark Streaming"
   ]
  },
  {
   "cell_type": "markdown",
   "id": "dd191813",
   "metadata": {},
   "source": [
    "## Tratamiento de datos en streaming\n",
    "Aquí podéis incluir las sentencias de importación de paquetes e inicialización que necesitéis"
   ]
  },
  {
   "cell_type": "code",
   "execution_count": null,
   "id": "c35b995a",
   "metadata": {},
   "outputs": [],
   "source": [
    "import os\n",
    "import findspark\n",
    "findspark.init(os.environ['SPARK_HOME'])\n",
    "from pathToUri import toUri"
   ]
  },
  {
   "cell_type": "markdown",
   "id": "cf2044e5",
   "metadata": {},
   "source": [
    "### Saber en tiempo real cuantas veces pasa un vehículo por cada punto del sistema desde el día que se pone en marcha el mecanismo.  \n",
    "Incluir las celdas con las respuestas a continuación"
   ]
  },
  {
   "cell_type": "code",
   "execution_count": null,
   "id": "651fce4c",
   "metadata": {},
   "outputs": [],
   "source": []
  },
  {
   "cell_type": "markdown",
   "id": "64926384",
   "metadata": {},
   "source": [
    "### Saber en tiempo real cuántas veces pasa un vehículo por un determinado punto, pero solo teniendo en cuenta los últimos 7 días de información.\n",
    "Incluir las celdas con las respuestas a continuación"
   ]
  },
  {
   "cell_type": "code",
   "execution_count": null,
   "id": "5f6b07ec",
   "metadata": {},
   "outputs": [],
   "source": []
  },
  {
   "cell_type": "markdown",
   "id": "08b83d8c",
   "metadata": {},
   "source": [
    "### Elige una de las matrículas que se genera y realiza una vigilancia de este vehículo, queremos saber cuantas veces a sido detectado en cada punto de control durante la última hora.  \n",
    "Incluir las celdas con las respuestas a continuación"
   ]
  },
  {
   "cell_type": "code",
   "execution_count": null,
   "id": "9e26faff",
   "metadata": {},
   "outputs": [],
   "source": []
  }
 ],
 "metadata": {
  "kernelspec": {
   "display_name": "Python 3",
   "language": "python",
   "name": "python3"
  },
  "language_info": {
   "codemirror_mode": {
    "name": "ipython",
    "version": 3
   },
   "file_extension": ".py",
   "mimetype": "text/x-python",
   "name": "python",
   "nbconvert_exporter": "python",
   "pygments_lexer": "ipython3",
   "version": "3.8.5"
  }
 },
 "nbformat": 4,
 "nbformat_minor": 5
}
