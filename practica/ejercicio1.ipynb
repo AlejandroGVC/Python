{
 "cells": [
  {
   "cell_type": "markdown",
   "metadata": {},
   "source": [
    "# Ejercicio 1"
   ]
  },
  {
   "cell_type": "code",
   "execution_count": 1,
   "metadata": {},
   "outputs": [],
   "source": [
    "#Para convertir path linux en uri's\n",
    "from pathToUri import toUri\n",
    "import os\n",
    "import findspark\n",
    "findspark.init(os.environ['SPARK_HOME'])"
   ]
  },
  {
   "cell_type": "code",
   "execution_count": 2,
   "metadata": {},
   "outputs": [],
   "source": [
    "from pyspark.sql import SparkSession\n",
    "import pyspark.sql.functions as F\n",
    "from pyspark.sql import Window\n",
    "\n",
    "spark = SparkSession.builder.appName('cars').getOrCreate()\n",
    "\n",
    "ruta = toUri(\"../../../pec2/\")"
   ]
  },
  {
   "cell_type": "code",
   "execution_count": 3,
   "metadata": {},
   "outputs": [],
   "source": [
    "cars = spark.read.format('csv') \\\n",
    "            .option('sep', \";\") \\\n",
    "            .option('header','true') \\\n",
    "            .option('inferSchema','true') \\\n",
    "            .load(ruta + \"/cars.csv\")"
   ]
  },
  {
   "cell_type": "code",
   "execution_count": 4,
   "metadata": {},
   "outputs": [
    {
     "name": "stdout",
     "output_type": "stream",
     "text": [
      "+--------------------+----+---------+------------+----------+------+------------+-----+------+\n",
      "|                 Car| MPG|Cylinders|Displacement|Horsepower|Weight|Acceleration|Model|Origin|\n",
      "+--------------------+----+---------+------------+----------+------+------------+-----+------+\n",
      "|Chevrolet Chevell...|18.0|        8|       307.0|     130.0|  3504|        12.0|   70|    US|\n",
      "|   Buick Skylark 320|15.0|        8|       350.0|     165.0|  3693|        11.5|   70|    US|\n",
      "|  Plymouth Satellite|18.0|        8|       318.0|     150.0|  3436|        11.0|   70|    US|\n",
      "|       AMC Rebel SST|16.0|        8|       304.0|     150.0|  3433|        12.0|   70|    US|\n",
      "|         Ford Torino|17.0|        8|       302.0|     140.0|  3449|        10.5|   70|    US|\n",
      "+--------------------+----+---------+------------+----------+------+------------+-----+------+\n",
      "only showing top 5 rows\n",
      "\n"
     ]
    }
   ],
   "source": [
    "# Muestro los 5 primeros\n",
    "cars.show(5)"
   ]
  },
  {
   "cell_type": "code",
   "execution_count": 5,
   "metadata": {},
   "outputs": [
    {
     "name": "stdout",
     "output_type": "stream",
     "text": [
      "root\n",
      " |-- Car: string (nullable = true)\n",
      " |-- MPG: double (nullable = true)\n",
      " |-- Cylinders: integer (nullable = true)\n",
      " |-- Displacement: double (nullable = true)\n",
      " |-- Horsepower: double (nullable = true)\n",
      " |-- Weight: decimal(4,0) (nullable = true)\n",
      " |-- Acceleration: double (nullable = true)\n",
      " |-- Model: integer (nullable = true)\n",
      " |-- Origin: string (nullable = true)\n",
      "\n"
     ]
    }
   ],
   "source": [
    "# Muestro la estructura\n",
    "cars.printSchema()"
   ]
  },
  {
   "cell_type": "code",
   "execution_count": 6,
   "metadata": {},
   "outputs": [
    {
     "name": "stdout",
     "output_type": "stream",
     "text": [
      "+--------------------+---------+\n",
      "|                 Car|Cylinders|\n",
      "+--------------------+---------+\n",
      "|Citroen DS-21 Pallas|        4|\n",
      "|Volkswagen 1131 D...|        4|\n",
      "|         Peugeot 504|        4|\n",
      "|         Audi 100 LS|        4|\n",
      "|            Saab 99e|        4|\n",
      "|            BMW 2002|        4|\n",
      "|Volkswagen Super ...|        4|\n",
      "|           Opel 1900|        4|\n",
      "|         Peugeot 304|        4|\n",
      "|           Fiat 124B|        4|\n",
      "|Volkswagen Model 111|        4|\n",
      "|   Volkswagen Type 3|        4|\n",
      "|     Volvo 145e (sw)|        4|\n",
      "| Volkswagen 411 (sw)|        4|\n",
      "|    Peugeot 504 (sw)|        4|\n",
      "|     Renault 12 (sw)|        4|\n",
      "|Volkswagen Super ...|        4|\n",
      "|Fiat 124 Sport Coupe|        4|\n",
      "|            Fiat 128|        4|\n",
      "|          Opel Manta|        4|\n",
      "+--------------------+---------+\n",
      "only showing top 20 rows\n",
      "\n"
     ]
    }
   ],
   "source": [
    "# Mostrar las columnas \"Cars\" y \"Cylinders\" de los vehículos de Europa\n",
    "cars.select(\"Car\", \"Cylinders\").filter(F.col(\"Origin\")==\"Europe\").show()"
   ]
  },
  {
   "cell_type": "code",
   "execution_count": 7,
   "metadata": {},
   "outputs": [
    {
     "name": "stdout",
     "output_type": "stream",
     "text": [
      "+------+------------------+------------+------------------+\n",
      "|Origin|  Media Horsepower|Media Weight|Media Acceleration|\n",
      "+------+------------------+------------+------------------+\n",
      "|Europe| 78.78082191780823|   2431.4932| 16.82191780821918|\n",
      "|    US|118.01181102362204|   3372.7008|14.942519685039361|\n",
      "| Japan| 79.83544303797468|   2221.2278|16.172151898734175|\n",
      "+------+------------------+------------+------------------+\n",
      "\n"
     ]
    }
   ],
   "source": [
    "# Obtener la media de \"Horsepower\", \"Weight\" y \"Acceleration\" por \"origen\"\n",
    "\n",
    "cars.groupBy(\"Origin\").agg(F.mean(\"Horsepower\").alias(\"Media Horsepower\"),F.mean(\"Weight\").alias(\"Media Weight\"),F.mean(\"Acceleration\").alias(\"Media Acceleration\")).show()"
   ]
  },
  {
   "cell_type": "code",
   "execution_count": 8,
   "metadata": {},
   "outputs": [],
   "source": [
    "# Calcular el ratio entre potencia y peso y a continuación sacar la media por cantidad de cilindros \n",
    "cars = cars.withColumn(\"RatioPotPeso\",F.col(\"Horsepower\")/F.col(\"Weight\"))"
   ]
  },
  {
   "cell_type": "code",
   "execution_count": 9,
   "metadata": {},
   "outputs": [
    {
     "name": "stdout",
     "output_type": "stream",
     "text": [
      "+---------+---------------------------------------+\n",
      "|Cylinders|Media Ratio Potencia Peso por Cilindros|\n",
      "+---------+---------------------------------------+\n",
      "|        6|                    0.03163238614784404|\n",
      "|        3|                   0.041441818290915214|\n",
      "|        5|                   0.026973551761855744|\n",
      "|        4|                   0.033217183371144564|\n",
      "|        8|                    0.03872856292574305|\n",
      "+---------+---------------------------------------+\n",
      "\n"
     ]
    }
   ],
   "source": [
    "cars.groupBy(F.col(\"Cylinders\")).agg(F.mean(\"RatioPotPeso\").alias(\"Media Ratio Potencia Peso por Cilindros\")).show()"
   ]
  },
  {
   "cell_type": "code",
   "execution_count": 10,
   "metadata": {},
   "outputs": [],
   "source": [
    "# Queremos tener información de la potencia (Horsepower) de los vehículos según su cilindrada, para ello hay que elaborar el ranking de potencia de los vehículos por cilindors. Se necesita presentar los dos primeros vehículos de cada cilindrada. "
   ]
  },
  {
   "cell_type": "code",
   "execution_count": 40,
   "metadata": {},
   "outputs": [],
   "source": [
    "windowsSpec = Window \\\n",
    "    .partitionBy(\"Cylinders\").orderBy(F.desc(\"Horsepower\")).rowsBetween(Window.unboundedPreceding, Window.currentRow)"
   ]
  },
  {
   "cell_type": "code",
   "execution_count": 41,
   "metadata": {},
   "outputs": [],
   "source": [
    "from pyspark.sql.functions import max, col, rank"
   ]
  },
  {
   "cell_type": "code",
   "execution_count": 42,
   "metadata": {},
   "outputs": [],
   "source": [
    "maxHorsepower = max(cars[\"Horsepower\"]).over(windowsSpec)"
   ]
  },
  {
   "cell_type": "code",
   "execution_count": 43,
   "metadata": {},
   "outputs": [
    {
     "name": "stdout",
     "output_type": "stream",
     "text": [
      "+---------+----------+-------------+\n",
      "|Cylinders|Horsepower|MaxHorsepower|\n",
      "+---------+----------+-------------+\n",
      "|        6|     165.0|        165.0|\n",
      "|        6|     133.0|        165.0|\n",
      "|        6|     132.0|        165.0|\n",
      "|        6|     125.0|        165.0|\n",
      "|        6|     122.0|        165.0|\n",
      "|        6|     120.0|        165.0|\n",
      "|        6|     120.0|        165.0|\n",
      "|        6|     120.0|        165.0|\n",
      "|        6|     116.0|        165.0|\n",
      "|        6|     115.0|        165.0|\n",
      "|        6|     115.0|        165.0|\n",
      "|        6|     115.0|        165.0|\n",
      "|        6|     112.0|        165.0|\n",
      "|        6|     110.0|        165.0|\n",
      "|        6|     110.0|        165.0|\n",
      "|        6|     110.0|        165.0|\n",
      "|        6|     110.0|        165.0|\n",
      "|        6|     110.0|        165.0|\n",
      "|        6|     110.0|        165.0|\n",
      "|        6|     110.0|        165.0|\n",
      "+---------+----------+-------------+\n",
      "only showing top 20 rows\n",
      "\n"
     ]
    }
   ],
   "source": [
    "cars.select(cars['Cylinders'],F.col('Horsepower'),maxHorsepower.alias('MaxHorsepower')).show(20)"
   ]
  },
  {
   "cell_type": "code",
   "execution_count": 44,
   "metadata": {},
   "outputs": [],
   "source": [
    "rankHorsepower = rank().over(windowsSpec)"
   ]
  },
  {
   "cell_type": "code",
   "execution_count": 51,
   "metadata": {},
   "outputs": [
    {
     "name": "stdout",
     "output_type": "stream",
     "text": [
      "+---------+----------+--------------------+-------------+-----------------+\n",
      "|Cylinders|Horsepower|                 Car|MaxHorsepower|rankingHorsepower|\n",
      "+---------+----------+--------------------+-------------+-----------------+\n",
      "|        6|     165.0|Buick Regal Sport...|        165.0|                1|\n",
      "|        6|     133.0|       Peugeot 604sl|        165.0|                2|\n",
      "|        6|     132.0|       Datsun 280-ZX|        165.0|                3|\n",
      "|        6|     125.0|         Volvo 264gl|        165.0|                4|\n",
      "|        6|     122.0|      Toyota Mark II|        165.0|                5|\n",
      "|        6|     120.0|  Mercedes-Benz 280s|        165.0|                6|\n",
      "|        6|     120.0|     AMC Concord d/l|        165.0|                6|\n",
      "|        6|     120.0|   Datsun 810 Maxima|        165.0|                6|\n",
      "|        6|     116.0|     Toyota Cressida|        165.0|                9|\n",
      "|        6|     115.0|   Pontiac Lemans V6|        165.0|               10|\n",
      "|        6|     115.0|  Chevrolet Citation|        165.0|               10|\n",
      "|        6|     115.0|Oldsmobile Omega ...|        165.0|               10|\n",
      "|        6|     112.0|      Ford Grenada l|        165.0|               13|\n",
      "|        6|     110.0|AMC Hornet Sporta...|        165.0|               14|\n",
      "|        6|     110.0|         AMC Matador|        165.0|               14|\n",
      "|        6|     110.0|       Buick Century|        165.0|               14|\n",
      "|        6|     110.0|         AMC Matador|        165.0|               14|\n",
      "|        6|     110.0|       Buick Skyhawk|        165.0|               14|\n",
      "|        6|     110.0|  Pontiac Ventura SJ|        165.0|               14|\n",
      "|        6|     110.0|  Chevrolet Concours|        165.0|               14|\n",
      "+---------+----------+--------------------+-------------+-----------------+\n",
      "only showing top 20 rows\n",
      "\n"
     ]
    }
   ],
   "source": [
    "cars.select(cars['Cylinders'],cars['Horsepower'], cars[\"Car\"], \\\n",
    "            maxHorsepower.alias('MaxHorsepower'), \\\n",
    "           rankHorsepower.alias('rankingHorsepower')).show()"
   ]
  },
  {
   "cell_type": "code",
   "execution_count": 56,
   "metadata": {},
   "outputs": [
    {
     "name": "stdout",
     "output_type": "stream",
     "text": [
      "+---------+----------+--------------------+--------------+\n",
      "|Cylinders|Horsepower|                 Car|rankHorsepower|\n",
      "+---------+----------+--------------------+--------------+\n",
      "|        6|     165.0|Buick Regal Sport...|             1|\n",
      "|        6|     133.0|       Peugeot 604sl|             2|\n",
      "|        3|     110.0|          Mazda RX-4|             1|\n",
      "|        3|     100.0|       Mazda RX-7 GS|             2|\n",
      "|        5|     103.0|           Audi 5000|             1|\n",
      "|        5|      77.0|  Mercedes Benz 300d|             2|\n",
      "|        4|     115.0|Citroen DS-21 Pallas|             1|\n",
      "|        4|     115.0|           Saab 99LE|             1|\n",
      "|        4|     115.0|          Saab 99gle|             1|\n",
      "|        8|     230.0|  Pontiac Grand Prix|             1|\n",
      "|        8|     225.0|    Pontiac Catalina|             2|\n",
      "|        8|     225.0|Buick Estate Wago...|             2|\n",
      "|        8|     225.0|Buick Electra 225...|             2|\n",
      "+---------+----------+--------------------+--------------+\n",
      "\n"
     ]
    }
   ],
   "source": [
    "cars.select( cars['Cylinders'],cars['Horsepower'], cars['Car'], \\\n",
    "           rankHorsepower.alias('rankHorsepower')). \\\n",
    "            where((F.col('rankHorsepower')== 1) | (col('rankHorsepower')== 2)).show()"
   ]
  }
 ],
 "metadata": {
  "kernelspec": {
   "display_name": "Python 3",
   "language": "python",
   "name": "python3"
  },
  "language_info": {
   "codemirror_mode": {
    "name": "ipython",
    "version": 3
   },
   "file_extension": ".py",
   "mimetype": "text/x-python",
   "name": "python",
   "nbconvert_exporter": "python",
   "pygments_lexer": "ipython3",
   "version": "3.8.5"
  }
 },
 "nbformat": 4,
 "nbformat_minor": 4
}
