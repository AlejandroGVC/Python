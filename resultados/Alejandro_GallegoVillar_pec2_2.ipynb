{
 "cells": [
  {
   "cell_type": "markdown",
   "id": "olive-france",
   "metadata": {},
   "source": [
    "# PEC2 – Infr. Big Data – Ejercicio 2 - Spark Streaming"
   ]
  },
  {
   "cell_type": "markdown",
   "id": "approximate-burning",
   "metadata": {},
   "source": [
    "## Tratamiento de datos en streaming\n",
    "Aquí podéis incluir las sentencias de importación de paquetes e inicialización que necesitéis"
   ]
  },
  {
   "cell_type": "code",
   "execution_count": 2,
   "id": "international-layer",
   "metadata": {},
   "outputs": [],
   "source": [
    "from pyspark import SparkContext\n",
    "from pyspark.streaming import StreamingContext\n",
    "from pathToUri import toUri"
   ]
  },
  {
   "cell_type": "code",
   "execution_count": 3,
   "id": "629e90ea-73d4-4039-9fe1-8bbcab76f431",
   "metadata": {},
   "outputs": [],
   "source": [
    "def update_func(new_val, last_sum):\n",
    "    return sum(new_val) + (last_sum or 0)"
   ]
  },
  {
   "cell_type": "code",
   "execution_count": 25,
   "id": "1f48b619-e5a6-4071-8be1-179502929829",
   "metadata": {},
   "outputs": [],
   "source": [
    "def transforma_a_segundos(dias=None, horas=None):\n",
    "    if dias != None:\n",
    "        return dias * 24 * 60 * 60\n",
    "    if horas != None:\n",
    "        return  horas * 60 * 60\n",
    "    else: \n",
    "        pass"
   ]
  },
  {
   "cell_type": "markdown",
   "id": "executive-commissioner",
   "metadata": {},
   "source": [
    "### Saber en tiempo real cuantas veces pasa un vehículo por cada punto del sistema desde el día que se pone en marcha el mecanismo.  \n",
    "Incluir las celdas con las respuestas a continuación"
   ]
  },
  {
   "cell_type": "code",
   "execution_count": 78,
   "id": "021d4a31-cbb2-4eff-8b75-83e33a6d6fd4",
   "metadata": {},
   "outputs": [],
   "source": [
    "sc = SparkContext('local[*]', appName=\"ejercicio2\")\n",
    "ssc = StreamingContext(sc, 5)"
   ]
  },
  {
   "cell_type": "code",
   "execution_count": 81,
   "id": "610b624a-1cdc-4128-a7e3-d9b1854ea415",
   "metadata": {},
   "outputs": [],
   "source": [
    "# To maintain status info we need to use checkpoints.\n",
    "checkpointDir = toUri('/tmp/spark') \n",
    "ssc.checkpoint(checkpointDir)  # create dir for checkpoint archives\n",
    "\n",
    "lines = ssc.socketTextStream(\"localhost\", 9876)\n",
    "counts = lines.map(lambda line: (line, 1))\\\n",
    "              .updateStateByKey(update_func)\n",
    "\n",
    "counts.pprint()"
   ]
  },
  {
   "cell_type": "code",
   "execution_count": 82,
   "id": "3f8faac1-13f0-4164-a6c0-0c08542283aa",
   "metadata": {},
   "outputs": [
    {
     "name": "stdout",
     "output_type": "stream",
     "text": [
      "-------------------------------------------\n",
      "Time: 2021-05-06 10:43:20\n",
      "-------------------------------------------\n",
      "\n",
      "-------------------------------------------\n",
      "Time: 2021-05-06 10:43:25\n",
      "-------------------------------------------\n",
      "('1234UUU A7-KM-15', 1)\n",
      "\n",
      "-------------------------------------------\n",
      "Time: 2021-05-06 10:43:30\n",
      "-------------------------------------------\n",
      "('1234AAA A7-KM-50', 1)\n",
      "('1234EEE A7-KM-15', 2)\n",
      "('1234UUU A7-KM-15', 1)\n",
      "('1234AAA A7-KM-01', 1)\n",
      "\n",
      "-------------------------------------------\n",
      "Time: 2021-05-06 10:43:35\n",
      "-------------------------------------------\n",
      "('1234AAA A7-KM-50', 1)\n",
      "('1234EEE A7-KM-15', 2)\n",
      "('1234UUU A7-KM-50', 2)\n",
      "('1234UUU A7-KM-15', 1)\n",
      "('1234AAA A7-KM-01', 2)\n",
      "('1234AAA A7-KM-30', 1)\n",
      "\n",
      "-------------------------------------------\n",
      "Time: 2021-05-06 10:43:40\n",
      "-------------------------------------------\n",
      "('1234AAA A7-KM-50', 1)\n",
      "('1234EEE A7-KM-15', 2)\n",
      "('1234UUU A7-KM-50', 3)\n",
      "('1234UUU A7-KM-01', 1)\n",
      "('1234UUU A7-KM-15', 2)\n",
      "('1234AAA A7-KM-01', 2)\n",
      "('1234AAA A7-KM-30', 1)\n",
      "\n"
     ]
    }
   ],
   "source": [
    "ssc.start()"
   ]
  },
  {
   "cell_type": "code",
   "execution_count": 83,
   "id": "9e547b11-b2b2-4355-997b-4679f3092abe",
   "metadata": {},
   "outputs": [],
   "source": [
    "ssc.stop()\n",
    "sc.stop()"
   ]
  },
  {
   "cell_type": "markdown",
   "id": "51a660b0-d00a-400a-8b9c-08ed3f620b24",
   "metadata": {},
   "source": [
    "Esta app captura matricula y punto en un mismo string; así puedes saber cuando cada matricula pasa por cada punto del sistema y cuantas veces pasa por el mismo punto. "
   ]
  },
  {
   "cell_type": "markdown",
   "id": "automated-castle",
   "metadata": {},
   "source": [
    "### Saber en tiempo real cuántas veces pasa un vehículo por un determinado punto, pero solo teniendo en cuenta los últimos 7 días de información.\n",
    "Incluir las celdas con las respuestas a continuación"
   ]
  },
  {
   "cell_type": "markdown",
   "id": "fe87afe9-8796-42fe-a030-85c4a8952da1",
   "metadata": {},
   "source": [
    "Las operaciones de ventana te permiten operar sobre los datos recibidos en los ultimos n segundos"
   ]
  },
  {
   "cell_type": "code",
   "execution_count": 138,
   "id": "dc03946a-3b9d-461f-b911-ceaf050edc58",
   "metadata": {},
   "outputs": [],
   "source": [
    "sc = SparkContext('local[*]', appName=\"ejercicio2\")\n",
    "ssc = StreamingContext(sc, 10)"
   ]
  },
  {
   "cell_type": "code",
   "execution_count": 139,
   "id": "9d32e924-015a-488c-86c4-61f26f53e62f",
   "metadata": {},
   "outputs": [],
   "source": [
    "segs = transforma_a_segundos(dias=7)"
   ]
  },
  {
   "cell_type": "code",
   "execution_count": 140,
   "id": "indonesian-cargo",
   "metadata": {},
   "outputs": [],
   "source": [
    "ssc.checkpoint(checkpointDir)\n",
    "lines = ssc.socketTextStream(\"localhost\", 9876)\n",
    "counts = lines.map(lambda line:(line, 1))\\\n",
    "              .window(segs, 10)\\\n",
    "              .updateStateByKey(update_func)\n",
    "counts.pprint()"
   ]
  },
  {
   "cell_type": "code",
   "execution_count": 141,
   "id": "71d06c5c-bf76-41f2-a691-9f756177fa24",
   "metadata": {},
   "outputs": [
    {
     "name": "stdout",
     "output_type": "stream",
     "text": [
      "-------------------------------------------\n",
      "Time: 2021-05-06 11:06:20\n",
      "-------------------------------------------\n",
      "('1234AAA A7-KM-50', 1)\n",
      "('1234AAA A7-KM-30', 2)\n",
      "('1234UUU A7-KM-30', 1)\n",
      "('1234EEE A7-KM-50', 1)\n",
      "\n",
      "-------------------------------------------\n",
      "Time: 2021-05-06 11:06:30\n",
      "-------------------------------------------\n",
      "('1234AAA A7-KM-50', 2)\n",
      "('1234AAA A7-KM-15', 2)\n",
      "('1234AAA A7-KM-30', 4)\n",
      "('1234UUU A7-KM-30', 5)\n",
      "('1234EEE A7-KM-50', 2)\n",
      "('1234EEE A7-KM-01', 1)\n",
      "('1234UUU A7-KM-15', 1)\n",
      "\n"
     ]
    }
   ],
   "source": [
    "ssc.start()"
   ]
  },
  {
   "cell_type": "code",
   "execution_count": 142,
   "id": "ec1bb865-1799-467a-82a8-9a985ffb3475",
   "metadata": {},
   "outputs": [],
   "source": [
    "ssc.stop()\n",
    "sc.stop()"
   ]
  },
  {
   "cell_type": "markdown",
   "id": "8d4a7e8e-2cf9-47a6-98f9-8b576bc480c4",
   "metadata": {},
   "source": [
    "Crea un nuevo DStream que se computa basándose en la ventana que le hemos dado (7 días). "
   ]
  },
  {
   "cell_type": "markdown",
   "id": "nominated-demand",
   "metadata": {},
   "source": [
    "### Elige una de las matrículas que se genera y realiza una vigilancia de este vehículo, queremos saber cuantas veces a sido detectado en cada punto de control durante la última hora.  \n",
    "Incluir las celdas con las respuestas a continuación"
   ]
  },
  {
   "cell_type": "code",
   "execution_count": 143,
   "id": "1fd17098-2765-4211-a685-ccd3e65df547",
   "metadata": {},
   "outputs": [],
   "source": [
    "sc = SparkContext('local[*]',appName=\"ejercicio2\")\n",
    "ssc = StreamingContext(sc, 5)"
   ]
  },
  {
   "cell_type": "code",
   "execution_count": 144,
   "id": "af350be7-3e18-4956-a2ff-b52e23aa047c",
   "metadata": {},
   "outputs": [],
   "source": [
    "segs = transforma_a_segundos(horas=1)"
   ]
  },
  {
   "cell_type": "code",
   "execution_count": 145,
   "id": "geographic-fairy",
   "metadata": {},
   "outputs": [],
   "source": [
    "checkpointDir = toUri('/tmp/spark') \n",
    "ssc.checkpoint(checkpointDir)\n",
    "lines = ssc.socketTextStream(\"localhost\", 9876)\n",
    "counts = lines.map(lambda line:(line, 1))\\\n",
    "              .filter(lambda line: line[0].startswith('1234AAA'))\\\n",
    "              .window(segs, 10)\\\n",
    "              .updateStateByKey(update_func)\n",
    "counts.pprint()"
   ]
  },
  {
   "cell_type": "code",
   "execution_count": 146,
   "id": "0869573e-8ccd-4661-8563-3de5df395868",
   "metadata": {},
   "outputs": [
    {
     "name": "stdout",
     "output_type": "stream",
     "text": [
      "-------------------------------------------\n",
      "Time: 2021-05-06 11:07:00\n",
      "-------------------------------------------\n",
      "\n",
      "-------------------------------------------\n",
      "Time: 2021-05-06 11:07:10\n",
      "-------------------------------------------\n",
      "('1234AAA A7-KM-50', 1)\n",
      "('1234AAA A7-KM-30', 1)\n",
      "\n",
      "-------------------------------------------\n",
      "Time: 2021-05-06 11:07:20\n",
      "-------------------------------------------\n",
      "('1234AAA A7-KM-50', 4)\n",
      "('1234AAA A7-KM-15', 1)\n",
      "('1234AAA A7-KM-30', 4)\n",
      "('1234AAA A7-KM-01', 1)\n",
      "\n",
      "-------------------------------------------\n",
      "Time: 2021-05-06 11:07:30\n",
      "-------------------------------------------\n",
      "('1234AAA A7-KM-50', 7)\n",
      "('1234AAA A7-KM-15', 3)\n",
      "('1234AAA A7-KM-30', 7)\n",
      "('1234AAA A7-KM-01', 2)\n",
      "\n"
     ]
    }
   ],
   "source": [
    "ssc.start()"
   ]
  },
  {
   "cell_type": "code",
   "execution_count": 147,
   "id": "d6957820-6204-4048-b7e0-2790046a2cf9",
   "metadata": {},
   "outputs": [],
   "source": [
    "ssc.stop()\n",
    "sc.stop()"
   ]
  },
  {
   "cell_type": "markdown",
   "id": "8b8fa737-1d1e-45a8-a9a5-22f5d9dba584",
   "metadata": {},
   "source": [
    "Esta app filtra solo las matriculas '1234AAA' accediendo al primer termino de la tupla ('matricula + km', numero). Con la ventana cogemos solo los datos de la última hora. "
   ]
  },
  {
   "cell_type": "code",
   "execution_count": null,
   "id": "0425d320-cbf2-4dc2-81cf-8ce77f16795d",
   "metadata": {},
   "outputs": [],
   "source": []
  }
 ],
 "metadata": {
  "kernelspec": {
   "display_name": "Python 3",
   "language": "python",
   "name": "python3"
  },
  "language_info": {
   "codemirror_mode": {
    "name": "ipython",
    "version": 3
   },
   "file_extension": ".py",
   "mimetype": "text/x-python",
   "name": "python",
   "nbconvert_exporter": "python",
   "pygments_lexer": "ipython3",
   "version": "3.8.8"
  }
 },
 "nbformat": 4,
 "nbformat_minor": 5
}
